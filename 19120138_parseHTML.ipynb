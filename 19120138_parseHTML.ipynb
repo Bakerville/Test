{
 "cells": [
  {
   "cell_type": "markdown",
   "id": "ef689483",
   "metadata": {},
   "source": [
    "# PHẦN 1: THU THẬP DỮ LIỆU\n"
   ]
  },
  {
   "cell_type": "markdown",
   "id": "53326f71",
   "metadata": {},
   "source": [
    "&#9889;**Bảng phân công nhóm**"
   ]
  },
  {
   "cell_type": "markdown",
   "id": "999689e7",
   "metadata": {},
   "source": [
    "|Họ và tên|MSSV|Phân công| \n",
    "|-----|-------|------| \n",
    "|Phan Minh Triết|19120039|viết báo cáo, phần API| \n",
    "|Trần Đức Thuỵ|19120138|phần parse HTML|"
   ]
  },
  {
   "cell_type": "markdown",
   "id": "bb811ba2",
   "metadata": {},
   "source": [
    "## Phần Parse HTML"
   ]
  },
  {
   "cell_type": "markdown",
   "id": "c13e704a",
   "metadata": {},
   "source": [
    "&#9899; **Ý tưởng:**\n",
    "- Tạo cache, tạo các list thuộc tính của user\n",
    "- Sử dụng SELENIUM chạy trên web soundcloud để tìm thông tin Users bằng Keyword, tạo DataFrame của Users và lưu vào File\n",
    "- Tiếp tục sử dụng SELENIUM để lấy id và thông tin các track, playlist và lưu vào File"
   ]
  },
  {
   "cell_type": "markdown",
   "id": "1994755a",
   "metadata": {},
   "source": [
    "&#9899; **Nhận xét về Data thu thập được từ SoundCloud:**\n",
    "- Số mẫu thu thập khoảng 2500 \n",
    "- Thông tin của Playlists, Tracks gôm tên và địa chỉ url, cho thấy các playlists, tracks đều có cấu trúc tương tự nhau và phân biệt nhau bằng ID\n",
    "- Thông tin của Users gôm Name, Link, Number of Followers, Number of tracks phân biệt nhau ở ID, số lượng tracks, follower phân bố không đều"
   ]
  },
  {
   "cell_type": "markdown",
   "id": "e2c0c112",
   "metadata": {},
   "source": [
    "*Thư viện sử dụng trong Phần 1:*"
   ]
  },
  {
   "cell_type": "code",
   "execution_count": null,
   "id": "51ab318c",
   "metadata": {},
   "outputs": [],
   "source": [
    "import string\n",
    "import requests\n",
    "import requests_cache\n",
    "from requests_cache import CachedSession\n",
    "from selenium import webdriver \n",
    "from selenium.webdriver.common.keys import Keys\n",
    "from bs4 import BeautifulSoup\n",
    "import time\n",
    "import json\n",
    "import re\n",
    "import pandas as pd \n",
    "from datetime import datetime, timedelta \n",
    "from requests_html import HTMLSession"
   ]
  },
  {
   "cell_type": "code",
   "execution_count": null,
   "id": "8c52cbbf",
   "metadata": {},
   "outputs": [],
   "source": [
    "#Tao cache\n",
    "def check_cached(response: requests.Response) ->bool :\n",
    "    if(response.text.find('\"incomplete_results\":true')==-1):\n",
    "        return True\n",
    "    else:\n",
    "        return False\n",
    "    \n",
    "requests_cache.install_cache(expire_after = -1, filter_fn = check_cached)"
   ]
  },
  {
   "cell_type": "code",
   "execution_count": null,
   "id": "a252344e",
   "metadata": {},
   "outputs": [],
   "source": [
    "#Tao cac list cac thuoc tinh cua user\n",
    "\n",
    "users_name = []\n",
    "\n",
    "users_link = []\n",
    "\n",
    "num_followers = []\n",
    "\n",
    "num_tracks = []"
   ]
  },
  {
   "cell_type": "code",
   "execution_count": null,
   "id": "978abcb8",
   "metadata": {},
   "outputs": [],
   "source": [
    "\n",
    "# Ham lay thong tin users bang keyword\n",
    "\n",
    "def get_info_users(keyword):\n",
    "    \n",
    "    url =f'https://soundcloud.com/search/people?q={keyword}'\n",
    "    \n",
    "    driver.get(url)\n",
    "    \n",
    "    for i in range(0,50):\n",
    "        \n",
    "        time.sleep(1)\n",
    "    \n",
    "        driver.execute_script('window.scrollTo(0,document.body.scrollHeight)')\n",
    "    \n",
    "    time.sleep(1)\n",
    "    \n",
    "    page_source = driver.page_source\n",
    "    \n",
    "    soup = BeautifulSoup(page_source, 'html.parser')\n",
    "    \n",
    "    data_list = soup.find_all('li', class_='searchList__item')\n",
    "    \n",
    "    for i in data_list:\n",
    "        \n",
    "        name = i.find('a', class_='sc-link-dark sc-link-primary')\n",
    "        \n",
    "        follower_track = i.find_all('span', class_='sc-visuallyhidden')\n",
    "        \n",
    "        if(follower_track == []):\n",
    "            num_followers.append('0')\n",
    "            num_tracks.append('0')\n",
    "        elif (len(follower_track)==1):\n",
    "            if('track' in follower_track[0]):\n",
    "                num_tracks.append(follower_track[0].text)\n",
    "                num_followers.append('0')\n",
    "            else:\n",
    "                num_followers.append(follower_track[0].text)\n",
    "                num_tracks.append('0')\n",
    "        else:\n",
    "            num_tracks.append(follower_track[1].text)\n",
    "            num_followers.append(follower_track[0].text)\n",
    "            \n",
    "        profile_link = name.get('href')\n",
    "        \n",
    "        link = 'https://soundcloud.com' + profile_link\n",
    "        \n",
    "        users_name.append(name.text)\n",
    "        \n",
    "        users_link.append(link)\n",
    "        \n",
    "        print(name.text, link)"
   ]
  },
  {
   "cell_type": "code",
   "execution_count": null,
   "id": "8154593d",
   "metadata": {},
   "outputs": [],
   "source": [
    "# Tim thong tin user bang cac keyword trong bang chu cai\n",
    "\n",
    "driver = webdriver.Chrome()\n",
    "\n",
    "time.sleep(5)\n",
    "\n",
    "list_keys = list(string.ascii_lowercase)\n",
    "\n",
    "for i in list_keys:\n",
    "    \n",
    "    get_info_users(i)"
   ]
  },
  {
   "cell_type": "code",
   "execution_count": null,
   "id": "9b3f002c",
   "metadata": {},
   "outputs": [],
   "source": [
    "#Tao datafame cua users va luu vao file users_data\n",
    "\n",
    "s= {'Name':users_name, 'Link': users_link, 'Number of Followers': num_followers, 'Number of tracks': num_tracks}\n",
    "\n",
    "df = pd.DataFrame(s)\n",
    "\n",
    "df.to_csv('users_data.csv')"
   ]
  },
  {
   "cell_type": "code",
   "execution_count": null,
   "id": "249d1c40",
   "metadata": {},
   "outputs": [],
   "source": [
    "#Lấy link Users \n",
    "s = pd.read_csv('users_data.csv')\n",
    "users_link = s[\"Link\"]"
   ]
  },
  {
   "cell_type": "code",
   "execution_count": null,
   "id": "a671f6aa",
   "metadata": {},
   "outputs": [],
   "source": [
    "#Khởi tạo các thuộc tính cho Playlist\n",
    "playlist_name = []\n",
    "\n",
    "playlist_link = []\n",
    "\n",
    "added_time = []\n",
    "\n",
    "num_like = []\n",
    "\n",
    "tag_content = []"
   ]
  },
  {
   "cell_type": "code",
   "execution_count": null,
   "id": "6ba1d1f4",
   "metadata": {},
   "outputs": [],
   "source": [
    "#Hàm lấy Data Playlist bằng link của Users\n",
    "def get_sets_data(user_link,driver):\n",
    "    url = user_link +'/sets'\n",
    "    driver.get(url)\n",
    "    for i in range(0,2):\n",
    "        time.sleep(1)\n",
    "        driver.execute_script('window.scrollTo(0,document.body.scrollHeight)')   \n",
    "    soup = BeautifulSoup(driver.page_source, 'html.parser')\n",
    "    data = soup.find_all('li', class_='soundList__item')\n",
    "    for i in data:\n",
    "        name_link = i.find('a', class_='sc-link-primary soundTitle__title sc-link-dark sc-text-h4')\n",
    "        name = name_link.span.text\n",
    "        link = 'https://soundcloud.com' + name_link.get('href')   \n",
    "        date_time = i.find('time', class_= 'relativeTime').get('datetime')  \n",
    "        date_time = date_time[:len(date_time)-5]\n",
    "        date_time = date_time.replace(\"T\", \" \")\n",
    "        like = i.find('button', class_='sc-button-like sc-button-secondary sc-button sc-button-small sc-button-responsive')\n",
    "        like = like.text\n",
    "        if('Like' in like):\n",
    "            like = '0'\n",
    "        tag = i.find_all('span',class_='sc-truncate sc-tagContent')\n",
    "        if(tag==[]):\n",
    "            tag = 'None'\n",
    "        else:\n",
    "            tag = tag[0].text\n",
    "        playlist_name.append(name)\n",
    "        playlist_link.append(link)\n",
    "        added_time.append(str(date_time))\n",
    "        num_like.append(like)\n",
    "        tag_content.append(tag)\n",
    "        print(name,link,date_time,like,tag)"
   ]
  },
  {
   "cell_type": "code",
   "execution_count": null,
   "id": "6f28b771",
   "metadata": {},
   "outputs": [],
   "source": [
    "#Khởi chạy SELENIUM\n",
    "driver = webdriver.Chrome()\n",
    "time.sleep(5)\n",
    "for link in users_link:\n",
    "       get_sets_data(link,driver)"
   ]
  },
  {
   "cell_type": "code",
   "execution_count": null,
   "id": "c43f3d83",
   "metadata": {},
   "outputs": [],
   "source": [
    "#Lưu vào file\n",
    "s = {'Playlist Name': playlist_name, 'Link': playlist_link, 'Time': added_time, 'Like': num_like, 'Hashtag': tag_content}\n",
    "df_playlist = pd.DataFrame(s)\n",
    "df_playlist.to_csv('playlist_data.csv', index = False)"
   ]
  },
  {
   "cell_type": "code",
   "execution_count": null,
   "id": "199f0e5c",
   "metadata": {},
   "outputs": [],
   "source": [
    "#Lấy link User\n",
    "s = pd.read_csv('users_data.csv')\n",
    "users_link = s[\"Link\"]"
   ]
  },
  {
   "cell_type": "code",
   "execution_count": null,
   "id": "6cf43f62",
   "metadata": {},
   "outputs": [],
   "source": [
    "#Khởi tạo các thuộc tính track\n",
    "track_name = []\n",
    "\n",
    "track_link = []\n",
    "\n",
    "track_added_time = []\n",
    "\n",
    "track_num_like = []\n",
    "\n",
    "track_tag_content = []"
   ]
  },
  {
   "cell_type": "code",
   "execution_count": null,
   "id": "b22e2647",
   "metadata": {},
   "outputs": [],
   "source": [
    "#Hàm lấy track\n",
    "def get_tracks_data(user_link,driver):\n",
    "    url = user_link +'/tracks'\n",
    "    driver.get(url)\n",
    "    for i in range(0,2):\n",
    "        time.sleep(1)\n",
    "        driver.execute_script('window.scrollTo(0,document.body.scrollHeight)')   \n",
    "    soup = BeautifulSoup(driver.page_source, 'html.parser')\n",
    "    data = soup.find_all('li', class_='soundList__item')\n",
    "    for i in data:\n",
    "        name_link = i.find('a', class_='sc-link-primary soundTitle__title sc-link-dark sc-text-h4')\n",
    "        if(name_link==None):\n",
    "            continue\n",
    "        name = name_link.span.text\n",
    "        link = 'https://soundcloud.com' + name_link.get('href')   \n",
    "        date_time = i.find('time', class_= 'relativeTime').get('datetime')  \n",
    "        date_time = date_time[:len(date_time)-5]\n",
    "        date_time = date_time.replace(\"T\", \" \")\n",
    "        like = i.find('button', class_='sc-button-like sc-button-secondary sc-button sc-button-small sc-button-responsive')\n",
    "        like = like.text\n",
    "        if('Like' in like):\n",
    "            like = '0'\n",
    "        tag = i.find_all('span',class_='sc-truncate sc-tagContent')\n",
    "        if(tag==[]):\n",
    "            tag = 'None'\n",
    "        else:\n",
    "            tag = tag[0].text\n",
    "        track_name.append(name)\n",
    "        track_link.append(link)\n",
    "        track_added_time.append(str(date_time))\n",
    "        track_num_like.append(like)\n",
    "        track_tag_content.append('#' + tag)\n",
    "        print(name,link,date_time,like,tag)"
   ]
  },
  {
   "cell_type": "code",
   "execution_count": null,
   "id": "3d3ecae7",
   "metadata": {},
   "outputs": [],
   "source": [
    "#Khởi chạy SELENIUM\n",
    "driver = webdriver.Chrome()\n",
    "\n",
    "time.sleep(5)\n",
    "\n",
    "for link in users_link:\n",
    "    get_tracks_data(link,driver)"
   ]
  },
  {
   "cell_type": "code",
   "execution_count": null,
   "id": "73f2cb2d",
   "metadata": {},
   "outputs": [],
   "source": [
    "#Lưu vào file\n",
    "s = {'Track Name': track_name, 'Link': track_link, 'Time': track_added_time, 'Like': track_num_like, 'Genre': track_tag_content}\n",
    "df_playlist = pd.DataFrame(s)\n",
    "df_playlist.to_csv('track_data.csv', index = False)"
   ]
  },
  {
   "cell_type": "markdown",
   "id": "da18e565",
   "metadata": {},
   "source": [
    "                                        -------- HẾT PHẦN COLLECT DATA --------"
   ]
  }
 ],
 "metadata": {
  "kernelspec": {
   "display_name": "Python 3 (ipykernel)",
   "language": "python",
   "name": "python3"
  },
  "language_info": {
   "codemirror_mode": {
    "name": "ipython",
    "version": 3
   },
   "file_extension": ".py",
   "mimetype": "text/x-python",
   "name": "python",
   "nbconvert_exporter": "python",
   "pygments_lexer": "ipython3",
   "version": "3.8.8"
  }
 },
 "nbformat": 4,
 "nbformat_minor": 5
}
